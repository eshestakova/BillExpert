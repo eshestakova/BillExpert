{
 "cells": [
  {
   "cell_type": "code",
   "execution_count": 1,
   "metadata": {
    "collapsed": true
   },
   "outputs": [],
   "source": [
    "import pandas as pd"
   ]
  },
  {
   "cell_type": "code",
   "execution_count": 2,
   "metadata": {
    "collapsed": true
   },
   "outputs": [],
   "source": [
    "import numpy as np"
   ]
  },
  {
   "cell_type": "code",
   "execution_count": 3,
   "metadata": {
    "collapsed": true
   },
   "outputs": [],
   "source": [
    "data = pd.read_excel(\"dosie.xls\")"
   ]
  },
  {
   "cell_type": "code",
   "execution_count": 4,
   "metadata": {
    "collapsed": true
   },
   "outputs": [],
   "source": [
    "data = data.as_matrix()"
   ]
  },
  {
   "cell_type": "code",
   "execution_count": 5,
   "metadata": {},
   "outputs": [
    {
     "data": {
      "text/plain": [
       "(18329, 1)"
      ]
     },
     "execution_count": 5,
     "metadata": {},
     "output_type": "execute_result"
    }
   ],
   "source": [
    "data.shape"
   ]
  },
  {
   "cell_type": "code",
   "execution_count": 6,
   "metadata": {},
   "outputs": [
    {
     "name": "stdout",
     "output_type": "stream",
     "text": [
      "Как выглядят данные?\n",
      "\n",
      "Досье на проект Федерального закона \"О внесении изменений в Федеральный закон \"О контрактной системе в сфере закупок товаров, работ, услуг для обеспечения государственных и муниципальных нужд\" (подготовлен Минэкономразвития России 31.12.2015)\n"
     ]
    }
   ],
   "source": [
    "print(\"Как выглядят данные?\\n\")\n",
    "print(data[0][0])\n"
   ]
  },
  {
   "cell_type": "code",
   "execution_count": 7,
   "metadata": {},
   "outputs": [
    {
     "name": "stdout",
     "output_type": "stream",
     "text": [
      "внесен\n"
     ]
    }
   ],
   "source": [
    "print('внесен'.decode(encoding='utf8'))"
   ]
  },
  {
   "cell_type": "code",
   "execution_count": 8,
   "metadata": {},
   "outputs": [
    {
     "name": "stdout",
     "output_type": "stream",
     "text": [
      "18329\n",
      "всего документов, из них \n",
      "16696\n",
      "хорошо размечены, из них \n",
      "5562\n",
      "приняты и \n",
      "11134\n",
      "отклонены\n"
     ]
    }
   ],
   "source": [
    "good = []\n",
    "bad = []\n",
    "\n",
    "for d in data:\n",
    "    d = d[0].lower()\n",
    "    if ('(внесен'.decode(encoding='utf8') in d) and ('досье на проект'.decode(encoding='utf8') in d):\n",
    "        if '(подписан'.decode(encoding='utf8') in d:\n",
    "            good.append(d[16:d.rindex('(')])\n",
    "        if '(снят'.decode(encoding='utf8') in d:\n",
    "            bad.append(d[16:d.rindex('(')])\n",
    "\n",
    "print(len(data))\n",
    "print('всего документов, из них ')\n",
    "print(len(good)+len(bad))\n",
    "print('хорошо размечены, из них ')\n",
    "print(len(good))\n",
    "print('приняты и ')\n",
    "print(len(bad))\n",
    "print('отклонены')"
   ]
  },
  {
   "cell_type": "code",
   "execution_count": 9,
   "metadata": {},
   "outputs": [
    {
     "name": "stdout",
     "output_type": "stream",
     "text": [
      "федерального закона n 571694-5 \"о внесении изменений в федеральный закон \"о физической культуре и спорте в российской федерации\" (в части совершенствования спортивной подготовки) (внесен правительством рф) \n",
      "\n",
      "правительством рф\n",
      "\n",
      "федерального закона n 571694-5 \"о внесении изменений в федеральный закон \"о физической культуре и спорте в российской федерации\" (в части совершенствования спортивной подготовки) \n"
     ]
    }
   ],
   "source": [
    "d = good[2037]\n",
    "print(d)\n",
    "print('')\n",
    "author = d[d.rindex('(внесен'.decode(encoding='utf8'))+8:d.rindex(')')]\n",
    "name = d[:d.rindex('(внесен'.decode(encoding='utf8'))]\n",
    "print(author)\n",
    "print('')\n",
    "print(name)"
   ]
  },
  {
   "cell_type": "code",
   "execution_count": 10,
   "metadata": {
    "collapsed": true
   },
   "outputs": [],
   "source": [
    "authors = []\n",
    "names = []\n",
    "\n",
    "all_authors = ['ВАС'.decode(encoding='utf8'), 'ГД'.decode(encoding='utf8'), 'СФ'.decode(encoding='utf8'), 'верховный суд'.decode(encoding='utf8'), 'местный орган'.decode(encoding='utf8'), 'правительство'.decode(encoding='utf8'), 'президент'.decode(encoding='utf8'), 'другое'.decode(encoding='utf8')]\n",
    "    \n",
    "for d in good:\n",
    "    author = d[d.rindex('(внесен'.decode(encoding='utf8'))+8:d.rindex(')')]\n",
    "    if ('республики'.decode(encoding='utf8') in author) or ('обл.'.decode(encoding='utf8') in author) or ('мосгор'.decode(encoding='utf8') in author) or ('окружн'.decode(encoding='utf8') in author) or ('город'.decode(encoding='utf8') in author) or ('севастополя'.decode(encoding='utf8') in author) or ('санкт-петербурга'.decode(encoding='utf8') in author) or ('округа'.decode(encoding='utf8') in author) or ('областн'.decode(encoding='utf8') in author) or ('области'.decode(encoding='utf8') in author) or ('губернской'.decode(encoding='utf8') in author) or ('краев'.decode(encoding='utf8') in author) or ('края'.decode(encoding='utf8') in author):\n",
    "        author = 'местный орган'.decode(encoding='utf8')\n",
    "    if ('гд'.decode(encoding='utf8') in author) or ('верховным советом'.decode(encoding='utf8') in author) or ('деп.'.decode(encoding='utf8') in author) or ('депутат'.decode(encoding='utf8') in author):\n",
    "        author = 'ГД'.decode(encoding='utf8')\n",
    "    if ('сф'.decode(encoding='utf8') in author) or ('советом федерации'.decode(encoding='utf8') in author) or ('совета федерации'.decode(encoding='utf8') in author):\n",
    "        author = 'СФ'.decode(encoding='utf8')\n",
    "    if ('правительство'.decode(encoding='utf8') in author) or ('првительство'.decode(encoding='utf8') in author) :\n",
    "        author = 'правительство'.decode(encoding='utf8')\n",
    "    if ('президент'.decode(encoding='utf8') in author) :\n",
    "        author = 'президент'.decode(encoding='utf8')\n",
    "    if ('арбитражным'.decode(encoding='utf8') in author) :\n",
    "        author = 'ВАС'.decode(encoding='utf8')\n",
    "    if ('верховным судом'.decode(encoding='utf8') in author)  or ('верховного суда'.decode(encoding='utf8') in author) or ('вс '.decode(encoding='utf8') in author) :\n",
    "        author = 'верховный суд'.decode(encoding='utf8')\n",
    "    if author not in all_authors:\n",
    "        author = 'другое'.decode(encoding='utf8')\n",
    "    authors.append(all_authors.index(author))\n",
    "    name = d[:d.rindex('(внесен'.decode(encoding='utf8'))]\n",
    "    names.append(name)\n",
    "    \n",
    "    \n",
    "for d in bad:\n",
    "    \n",
    "    if len(names) >= len(good)*2:\n",
    "        break\n",
    "    \n",
    "    author = d[d.rindex('(внесен'.decode(encoding='utf8'))+8:d.rindex(')')]\n",
    "    if ('республики'.decode(encoding='utf8') in author) or ('обл.'.decode(encoding='utf8') in author) or ('мосгор'.decode(encoding='utf8') in author) or ('окружн'.decode(encoding='utf8') in author) or ('город'.decode(encoding='utf8') in author) or ('севастополя'.decode(encoding='utf8') in author) or ('санкт-петербурга'.decode(encoding='utf8') in author) or ('округа'.decode(encoding='utf8') in author) or ('областн'.decode(encoding='utf8') in author) or ('области'.decode(encoding='utf8') in author) or ('губернской'.decode(encoding='utf8') in author) or ('краев'.decode(encoding='utf8') in author) or ('края'.decode(encoding='utf8') in author):\n",
    "        author = 'местный орган'.decode(encoding='utf8')\n",
    "    if ('гд'.decode(encoding='utf8') in author) or ('верховным советом'.decode(encoding='utf8') in author) or ('деп.'.decode(encoding='utf8') in author) or ('депутат'.decode(encoding='utf8') in author):\n",
    "        author = 'ГД'.decode(encoding='utf8')\n",
    "    if ('сф'.decode(encoding='utf8') in author) or ('советом федерации'.decode(encoding='utf8') in author) or ('совета федерации'.decode(encoding='utf8') in author):\n",
    "        author = 'СФ'.decode(encoding='utf8')\n",
    "    if ('правительство'.decode(encoding='utf8') in author) or ('првительство'.decode(encoding='utf8') in author) :\n",
    "        author = 'правительство'.decode(encoding='utf8')\n",
    "    if ('президент'.decode(encoding='utf8') in author) :\n",
    "        author = 'президент'.decode(encoding='utf8')\n",
    "    if ('арбитражным'.decode(encoding='utf8') in author) :\n",
    "        author = 'ВАС'.decode(encoding='utf8')\n",
    "    if ('верховным судом'.decode(encoding='utf8') in author) or ('верховного суда'.decode(encoding='utf8') in author) or ('вс '.decode(encoding='utf8') in author) :\n",
    "        author = 'верховный суд'.decode(encoding='utf8')\n",
    "    if author not in all_authors:\n",
    "        author = 'другое'.decode(encoding='utf8')\n",
    "    authors.append(all_authors.index(author))\n",
    "    name = d[:d.rindex('(внесен'.decode(encoding='utf8'))]\n",
    "    names.append(name)\n",
    "    \n",
    "    "
   ]
  },
  {
   "cell_type": "code",
   "execution_count": 11,
   "metadata": {},
   "outputs": [
    {
     "data": {
      "text/plain": [
       "11124"
      ]
     },
     "execution_count": 11,
     "metadata": {},
     "output_type": "execute_result"
    }
   ],
   "source": [
    "len(names)"
   ]
  },
  {
   "cell_type": "code",
   "execution_count": 12,
   "metadata": {},
   "outputs": [
    {
     "name": "stdout",
     "output_type": "stream",
     "text": [
      "федерального закона n 577558-5 \"о внесении изменений в части первую и вторую налогового кодекса российской федерации и отдельные законодательные акты российской федерации в связи с осуществлением мер налогового и таможенно-тарифного стимулирования деятельности по добыче углеводородного сырья на континентальном шельфе российской федерации\" \n"
     ]
    }
   ],
   "source": [
    "print(names[2017])"
   ]
  },
  {
   "cell_type": "code",
   "execution_count": 13,
   "metadata": {
    "collapsed": true
   },
   "outputs": [],
   "source": [
    "from nltk.tokenize import RegexpTokenizer\n",
    "from collections import Counter,defaultdict\n",
    "tokenizer = RegexpTokenizer(r\"\\w+\")\n",
    "\n",
    "#словарь для всех токенов\n",
    "token_counts = Counter()\n",
    "\n",
    "#все заголовки и описания\n",
    "all_texts = names\n",
    "\n",
    "\n",
    "#считаем частоты слов\n",
    "for s in all_texts:\n",
    "    #if type(s) is not str:\n",
    "    #    continue\n",
    "    tokens = tokenizer.tokenize(s)\n",
    "    for token in tokens:\n",
    "        token_counts[token] +=1\n"
   ]
  },
  {
   "cell_type": "code",
   "execution_count": 14,
   "metadata": {},
   "outputs": [
    {
     "name": "stderr",
     "output_type": "stream",
     "text": [
      "IOPub data rate exceeded.\n",
      "The notebook server will temporarily stop sending output\n",
      "to the client in order to avoid crashing it.\n",
      "To change this limit, set the config variable\n",
      "`--NotebookApp.iopub_data_rate_limit`.\n"
     ]
    }
   ],
   "source": [
    "print(all_texts)"
   ]
  },
  {
   "cell_type": "code",
   "execution_count": 15,
   "metadata": {},
   "outputs": [
    {
     "data": {
      "image/png": "[encoded data removed]",
      "text/plain": [
       "<matplotlib.figure.Figure at 0x7fbdfdff0b90>"
      ]
     },
     "metadata": {},
     "output_type": "display_data"
    }
   ],
   "source": [
    "\n",
    "import matplotlib.pyplot as plt\n",
    "%matplotlib inline\n",
    "\n",
    "#распределение частот слов - большинство слов встречаются очень редко - для нас это мусор\n",
    "_=plt.hist(list(token_counts.values()),range=[0,50],bins=50)"
   ]
  },
  {
   "cell_type": "code",
   "execution_count": 16,
   "metadata": {
    "collapsed": true
   },
   "outputs": [],
   "source": [
    "#возьмём только те токены, которые встретились хотя бы 10 раз в обучающей выборке\n",
    "#информацию о том, сколько раз встретился каждый токен, можно найти в словаре token_counts\n",
    "\n",
    "min_count = 10\n",
    "tokens = list(filter(lambda t: token_counts[t]>10, token_counts ))\n",
    "#<список слов(ключей) из token_counts, которые встретились в выборке не менее min_count раз>\n"
   ]
  },
  {
   "cell_type": "code",
   "execution_count": 17,
   "metadata": {},
   "outputs": [
    {
     "name": "stdout",
     "output_type": "stream",
     "text": [
      "системы\n",
      "систему\n",
      "системе\n",
      "учетом\n",
      "объектами\n",
      "армения\n",
      "накоплений\n",
      "договору\n",
      "своих\n",
      "договора\n"
     ]
    }
   ],
   "source": [
    "for token in tokens[:10]:\n",
    "    print(token)"
   ]
  },
  {
   "cell_type": "code",
   "execution_count": 18,
   "metadata": {
    "collapsed": true
   },
   "outputs": [],
   "source": [
    "token_to_id = {t:i+1 for i,t in enumerate(tokens)}\n",
    "null_token = \"NULL\"\n",
    "token_to_id[null_token] = 0\n"
   ]
  },
  {
   "cell_type": "code",
   "execution_count": 19,
   "metadata": {},
   "outputs": [
    {
     "data": {
      "text/plain": [
       "2175"
      ]
     },
     "execution_count": 19,
     "metadata": {},
     "output_type": "execute_result"
    }
   ],
   "source": [
    "len(token_to_id)"
   ]
  },
  {
   "cell_type": "code",
   "execution_count": 20,
   "metadata": {
    "collapsed": true
   },
   "outputs": [],
   "source": [
    "def vectorize(strings, token_to_id, max_len=150):\n",
    "    token_matrix = []\n",
    "    for s in strings:\n",
    "        #if type(s) is not str:\n",
    "        #    token_matrix.append([0]*max_len)\n",
    "        #    continue\n",
    "        s = s.lower()\n",
    "        tokens = tokenizer.tokenize(s)\n",
    "        token_ids = list(map(lambda token: token_to_id.get(token,0), tokens))[:max_len]\n",
    "        token_ids += [0]*(max_len - len(token_ids))\n",
    "        token_matrix.append(token_ids)\n",
    "\n",
    "    return np.array(token_matrix)"
   ]
  },
  {
   "cell_type": "code",
   "execution_count": 21,
   "metadata": {},
   "outputs": [
    {
     "name": "stdout",
     "output_type": "stream",
     "text": [
      "('max len(name) = ', 667)\n"
     ]
    },
    {
     "data": {
      "image/png": "[encoded data removed]",
      "text/plain": [
       "<matplotlib.figure.Figure at 0x7fbe0a102990>"
      ]
     },
     "metadata": {},
     "output_type": "display_data"
    }
   ],
   "source": [
    "len_of_names = []\n",
    "for n in names:\n",
    "    len_of_names.append(len(n))\n",
    "    \n",
    "print('max len(name) = ', max(len_of_names))\n",
    "    \n",
    "_=plt.hist(len_of_names,bins=50)"
   ]
  },
  {
   "cell_type": "code",
   "execution_count": 22,
   "metadata": {
    "collapsed": true
   },
   "outputs": [],
   "source": [
    "names_tokens = vectorize(names,token_to_id,max_len=300)"
   ]
  },
  {
   "cell_type": "code",
   "execution_count": 23,
   "metadata": {},
   "outputs": [
    {
     "name": "stdout",
     "output_type": "stream",
     "text": [
      "[ 948 1601  393    0 1112  105 1285 1656  579 1895 1739  105  238 2152  859\n",
      "  591 1540  874  892 1389 1701  763 1389 1748 1492  670  596 1485 2114    0\n",
      "    0    0    0    0    0    0    0    0    0    0    0    0    0    0    0\n",
      "    0    0    0    0    0    0    0    0    0    0    0    0    0    0    0\n",
      "    0    0    0    0    0    0    0    0    0    0    0    0    0    0    0\n",
      "    0    0    0    0    0    0    0    0    0    0    0    0    0    0    0\n",
      "    0    0    0    0    0    0    0    0    0    0    0    0    0    0    0\n",
      "    0    0    0    0    0    0    0    0    0    0    0    0    0    0    0\n",
      "    0    0    0    0    0    0    0    0    0    0    0    0    0    0    0\n",
      "    0    0    0    0    0    0    0    0    0    0    0    0    0    0    0\n",
      "    0    0    0    0    0    0    0    0    0    0    0    0    0    0    0\n",
      "    0    0    0    0    0    0    0    0    0    0    0    0    0    0    0\n",
      "    0    0    0    0    0    0    0    0    0    0    0    0    0    0    0\n",
      "    0    0    0    0    0    0    0    0    0    0    0    0    0    0    0\n",
      "    0    0    0    0    0    0    0    0    0    0    0    0    0    0    0\n",
      "    0    0    0    0    0    0    0    0    0    0    0    0    0    0    0\n",
      "    0    0    0    0    0    0    0    0    0    0    0    0    0    0    0\n",
      "    0    0    0    0    0    0    0    0    0    0    0    0    0    0    0\n",
      "    0    0    0    0    0    0    0    0    0    0    0    0    0    0    0\n",
      "    0    0    0    0    0    0    0    0    0    0    0    0    0    0    0]\n"
     ]
    }
   ],
   "source": [
    "print(names_tokens[0])"
   ]
  },
  {
   "cell_type": "code",
   "execution_count": 24,
   "metadata": {},
   "outputs": [
    {
     "data": {
      "text/plain": [
       "11124"
      ]
     },
     "execution_count": 24,
     "metadata": {},
     "output_type": "execute_result"
    }
   ],
   "source": [
    "target = list(np.ones(len(good)))\n",
    "target.extend(list(np.zeros(len(good))))\n",
    "len(target)"
   ]
  },
  {
   "cell_type": "code",
   "execution_count": 25,
   "metadata": {},
   "outputs": [
    {
     "data": {
      "text/plain": [
       "11124"
      ]
     },
     "execution_count": 25,
     "metadata": {},
     "output_type": "execute_result"
    }
   ],
   "source": [
    "len(authors)"
   ]
  },
  {
   "cell_type": "code",
   "execution_count": 26,
   "metadata": {},
   "outputs": [
    {
     "name": "stderr",
     "output_type": "stream",
     "text": [
      "/anaconda2/lib/python2.7/site-packages/sklearn/cross_validation.py:44: DeprecationWarning: This module was deprecated in version 0.18 in favor of the model_selection module into which all the refactored classes and functions are moved. Also note that the interface of the new CV iterators are different from that of this module. This module will be removed in 0.20.\n",
      "  \"This module will be removed in 0.20.\", DeprecationWarning)\n"
     ]
    }
   ],
   "source": [
    "from sklearn.cross_validation import train_test_split\n",
    "data_tuple = train_test_split(names_tokens, authors, target)\n",
    "\n",
    "train_names, test_names, train_authors, test_authors, train_target, test_target = data_tuple"
   ]
  },
  {
   "cell_type": "code",
   "execution_count": 27,
   "metadata": {},
   "outputs": [
    {
     "data": {
      "text/plain": [
       "array([ 948, 1601,  393,    0, 1112,  105, 1285, 1656,  579, 1895, 1739,\n",
       "        596,  548,  579, 1492,  670,  579,  665, 1016,    0,  579, 1771,\n",
       "        710,    0, 1818,    0,    0,    0,    0,    0,    0,    0,    0,\n",
       "          0,    0,    0,    0,    0,    0,    0,    0,    0,    0,    0,\n",
       "          0,    0,    0,    0,    0,    0,    0,    0,    0,    0,    0,\n",
       "          0,    0,    0,    0,    0,    0,    0,    0,    0,    0,    0,\n",
       "          0,    0,    0,    0,    0,    0,    0,    0,    0,    0,    0,\n",
       "          0,    0,    0,    0,    0,    0,    0,    0,    0,    0,    0,\n",
       "          0,    0,    0,    0,    0,    0,    0,    0,    0,    0,    0,\n",
       "          0,    0,    0,    0,    0,    0,    0,    0,    0,    0,    0,\n",
       "          0,    0,    0,    0,    0,    0,    0,    0,    0,    0,    0,\n",
       "          0,    0,    0,    0,    0,    0,    0,    0,    0,    0,    0,\n",
       "          0,    0,    0,    0,    0,    0,    0,    0,    0,    0,    0,\n",
       "          0,    0,    0,    0,    0,    0,    0,    0,    0,    0,    0,\n",
       "          0,    0,    0,    0,    0,    0,    0,    0,    0,    0,    0,\n",
       "          0,    0,    0,    0,    0,    0,    0,    0,    0,    0,    0,\n",
       "          0,    0,    0,    0,    0,    0,    0,    0,    0,    0,    0,\n",
       "          0,    0,    0,    0,    0,    0,    0,    0,    0,    0,    0,\n",
       "          0,    0,    0,    0,    0,    0,    0,    0,    0,    0,    0,\n",
       "          0,    0,    0,    0,    0,    0,    0,    0,    0,    0,    0,\n",
       "          0,    0,    0,    0,    0,    0,    0,    0,    0,    0,    0,\n",
       "          0,    0,    0,    0,    0,    0,    0,    0,    0,    0,    0,\n",
       "          0,    0,    0,    0,    0,    0,    0,    0,    0,    0,    0,\n",
       "          0,    0,    0,    0,    0,    0,    0,    0,    0,    0,    0,\n",
       "          0,    0,    0,    0,    0,    0,    0,    0,    0,    0,    0,\n",
       "          0,    0,    0,    0,    0,    0,    0,    0,    0,    0,    0,\n",
       "          0,    0,    0,    0,    0,    0,    0,    0,    0,    0,    0,\n",
       "          0,    0,    0])"
      ]
     },
     "execution_count": 27,
     "metadata": {},
     "output_type": "execute_result"
    }
   ],
   "source": [
    "test_names[0]"
   ]
  },
  {
   "cell_type": "code",
   "execution_count": 28,
   "metadata": {
    "collapsed": true
   },
   "outputs": [],
   "source": [
    "train_names = np.array(train_names)"
   ]
  },
  {
   "cell_type": "code",
   "execution_count": 29,
   "metadata": {
    "collapsed": true
   },
   "outputs": [],
   "source": [
    "train_authors = np.array(train_authors)"
   ]
  },
  {
   "cell_type": "code",
   "execution_count": 30,
   "metadata": {},
   "outputs": [
    {
     "data": {
      "text/plain": [
       "((8343, 300), (8343, 1))"
      ]
     },
     "execution_count": 30,
     "metadata": {},
     "output_type": "execute_result"
    }
   ],
   "source": [
    "train_names.shape, train_authors[:,None].shape"
   ]
  },
  {
   "cell_type": "code",
   "execution_count": 31,
   "metadata": {
    "collapsed": true
   },
   "outputs": [],
   "source": [
    "trainX = np.hstack((train_names, train_authors[:,None]))"
   ]
  },
  {
   "cell_type": "code",
   "execution_count": 32,
   "metadata": {
    "collapsed": true
   },
   "outputs": [],
   "source": [
    "trainY = train_target"
   ]
  },
  {
   "cell_type": "code",
   "execution_count": 33,
   "metadata": {
    "collapsed": true
   },
   "outputs": [],
   "source": [
    "testX = np.hstack((test_names, np.array(test_authors)[:,None]))"
   ]
  },
  {
   "cell_type": "code",
   "execution_count": 34,
   "metadata": {
    "collapsed": true
   },
   "outputs": [],
   "source": [
    "testY = test_target"
   ]
  },
  {
   "cell_type": "code",
   "execution_count": 35,
   "metadata": {
    "collapsed": true
   },
   "outputs": [],
   "source": [
    "from sklearn.metrics import accuracy_score"
   ]
  },
  {
   "cell_type": "code",
   "execution_count": 36,
   "metadata": {},
   "outputs": [
    {
     "name": "stdout",
     "output_type": "stream",
     "text": [
      "('Accuracy = ', 0.85113268608414239)\n"
     ]
    }
   ],
   "source": [
    "from sklearn.ensemble import GradientBoostingClassifier as Cl\n",
    "classif = Cl()\n",
    "classif.fit(trainX,trainY)\n",
    "print (\"Accuracy = \",accuracy_score(testY,classif.predict(testX)))"
   ]
  },
  {
   "cell_type": "code",
   "execution_count": 37,
   "metadata": {},
   "outputs": [
    {
     "name": "stdout",
     "output_type": "stream",
     "text": [
      "[[ 0.8181462   0.1818538 ]\n",
      " [ 0.03965734  0.96034266]\n",
      " [ 0.04804227  0.95195773]\n",
      " ..., \n",
      " [ 0.14642761  0.85357239]\n",
      " [ 0.58236969  0.41763031]\n",
      " [ 0.62941184  0.37058816]]\n",
      "[ 0.  1.  1. ...,  1.  0.  0.]\n"
     ]
    }
   ],
   "source": [
    "print(classif.predict_proba(testX))\n",
    "print(classif.predict(testX))"
   ]
  },
  {
   "cell_type": "code",
   "execution_count": 38,
   "metadata": {},
   "outputs": [
    {
     "data": {
      "text/plain": [
       "((8343,), (2781,))"
      ]
     },
     "execution_count": 38,
     "metadata": {},
     "output_type": "execute_result"
    }
   ],
   "source": [
    "np.array(trainY).shape, np.array(testY).shape"
   ]
  },
  {
   "cell_type": "code",
   "execution_count": 39,
   "metadata": {
    "collapsed": true
   },
   "outputs": [],
   "source": [
    "all_X = np.vstack((trainX, testX))\n",
    "all_Y = np.vstack((np.array(trainY)[:,None], np.array(testY)[:,None]))"
   ]
  },
  {
   "cell_type": "code",
   "execution_count": 40,
   "metadata": {},
   "outputs": [
    {
     "name": "stderr",
     "output_type": "stream",
     "text": [
      "/anaconda2/lib/python2.7/site-packages/sklearn/utils/validation.py:526: DataConversionWarning: A column-vector y was passed when a 1d array was expected. Please change the shape of y to (n_samples, ), for example using ravel().\n",
      "  y = column_or_1d(y, warn=True)\n"
     ]
    },
    {
     "data": {
      "text/plain": [
       "GradientBoostingClassifier(criterion='friedman_mse', init=None,\n",
       "              learning_rate=0.1, loss='deviance', max_depth=3,\n",
       "              max_features=None, max_leaf_nodes=None,\n",
       "              min_impurity_split=1e-07, min_samples_leaf=1,\n",
       "              min_samples_split=2, min_weight_fraction_leaf=0.0,\n",
       "              n_estimators=100, presort='auto', random_state=None,\n",
       "              subsample=1.0, verbose=0, warm_start=False)"
      ]
     },
     "execution_count": 40,
     "metadata": {},
     "output_type": "execute_result"
    }
   ],
   "source": [
    "from sklearn.ensemble import GradientBoostingClassifier as Cl\n",
    "classif = Cl()\n",
    "classif.fit(all_X, all_Y)"
   ]
  },
  {
   "cell_type": "code",
   "execution_count": null,
   "metadata": {
    "collapsed": true
   },
   "outputs": [],
   "source": []
  },
  {
   "cell_type": "code",
   "execution_count": null,
   "metadata": {
    "collapsed": true
   },
   "outputs": [],
   "source": []
  },
  {
   "cell_type": "code",
   "execution_count": null,
   "metadata": {
    "collapsed": true
   },
   "outputs": [],
   "source": []
  },
  {
   "cell_type": "code",
   "execution_count": 41,
   "metadata": {
    "collapsed": true
   },
   "outputs": [],
   "source": [
    "token = '393691033:AAGuwbkn93uLwnoWVrxINL1C1EolmPyfN00'"
   ]
  },
  {
   "cell_type": "code",
   "execution_count": 42,
   "metadata": {
    "collapsed": true
   },
   "outputs": [],
   "source": [
    "import telebot"
   ]
  },
  {
   "cell_type": "code",
   "execution_count": 43,
   "metadata": {
    "collapsed": true
   },
   "outputs": [],
   "source": [
    "from telebot import types"
   ]
  },
  {
   "cell_type": "code",
   "execution_count": null,
   "metadata": {
    "collapsed": true
   },
   "outputs": [],
   "source": []
  },
  {
   "cell_type": "code",
   "execution_count": 44,
   "metadata": {
    "collapsed": true
   },
   "outputs": [],
   "source": [
    "def make_prediction(name, author):\n",
    "    re_name = vectorize(np.array([name]),token_to_id,max_len=300)\n",
    "    #print(re_name)\n",
    "    #print(re_name.shape)\n",
    "    #print(np.array([author]).shape)\n",
    "    thisX = np.hstack((re_name, np.array([author])[:,None]))\n",
    "    #print(thisX)\n",
    "    return classif.predict_proba(thisX)[0][1]"
   ]
  },
  {
   "cell_type": "code",
   "execution_count": 45,
   "metadata": {},
   "outputs": [
    {
     "data": {
      "text/plain": [
       "0.95988550068122824"
      ]
     },
     "execution_count": 45,
     "metadata": {},
     "output_type": "execute_result"
    }
   ],
   "source": [
    "str1 = names[345]\n",
    "make_prediction(str1, 6)"
   ]
  },
  {
   "cell_type": "code",
   "execution_count": 46,
   "metadata": {
    "collapsed": true
   },
   "outputs": [],
   "source": [
    "T_name = 'Ф'\n",
    "T_author = -1"
   ]
  },
  {
   "cell_type": "code",
   "execution_count": 47,
   "metadata": {
    "collapsed": true
   },
   "outputs": [],
   "source": [
    "bot = telebot.TeleBot(token)\n",
    "\n",
    "@bot.message_handler(content_types=[\"text\"])\n",
    "def do_it(m):\n",
    "    global T_name\n",
    "    global T_author\n",
    "    \n",
    "    if m.text == '/help':\n",
    "        Help(m)\n",
    "    if m.text == '/start':\n",
    "        start(m)\n",
    "    if m.text == '/test_bill':\n",
    "        test_bill(m)\n",
    "    if 'Название'.decode(encoding='utf8') in m.text:\n",
    "        T_name = m.text[8:]\n",
    "        get_author(m)\n",
    "        \n",
    "    if m.text == 'Высший Арбитражный Суд'.decode(encoding='utf8'):\n",
    "        T_author = 0   \n",
    "        some_text(m, T_name, 'Высший Арбитражный Суд')\n",
    "    if m.text == 'Государственная Дума'.decode(encoding='utf8'):\n",
    "        T_author = 1\n",
    "        some_text(m, T_name, 'Государственная Дума')\n",
    "    if m.text == 'Совет Федерации'.decode(encoding='utf8'):\n",
    "        T_author = 2\n",
    "        some_text(m, T_name, 'Совет Федерации')\n",
    "    if m.text == 'Верховный суд'.decode(encoding='utf8'):\n",
    "        T_author = 3\n",
    "        some_text(m, T_name, 'Верховный суд')\n",
    "    if m.text == 'местный орган (субъект РФ)'.decode(encoding='utf8'):\n",
    "        T_author = 4\n",
    "        some_text(m, T_name, 'местный орган (субъект РФ)')\n",
    "    if m.text == 'Правительство РФ'.decode(encoding='utf8'):\n",
    "        T_author = 5\n",
    "        some_text(m, T_name, 'Правительство РФ')\n",
    "    if m.text == 'Президент РФ'.decode(encoding='utf8'):\n",
    "        T_author = 6\n",
    "        some_text(m, T_name, 'Президент РФ')\n",
    "    if m.text == 'другое'.decode(encoding='utf8'):\n",
    "        T_author = 7\n",
    "        some_text(m, T_name, 'другое')\n",
    "        \n",
    "    if m.text == '/analyze':\n",
    "        pr = make_prediction(T_name, T_author)\n",
    "        s = 'Я считаю, данный законопроект будет принят с вероятностью' + str(int(pr*100)) + '%.\\n\\nНапоминаю, что точность моего анализа 85%, то есть я не могу гарантировать правильное определение исхода в абсолютно всех случаях.'\n",
    "        bot.send_message(m.chat.id, s)\n",
    "        T_name = ''\n",
    "        T_author = -1\n",
    "    \n",
    "        \n",
    "\n",
    "def start(m):\n",
    "    s = 'Привет, я Билл!\\nЯ умею определять с точностью более 85% будет ли законопроект принят по его названию и автору.\\n'\n",
    "    s += '\\nСоветую использовать настоящие названия законопроектов. Названия типа \"какая-то фигня\" дадут нерелевантный результат.\\n'\n",
    "    s += 'Хотите попробовать? Отправьте /test_bill\\n\\nЕсли хотите узнать обо мне больше, отправьте /help'\n",
    "    bot.send_message(m.chat.id, s)\n",
    "def test_bill(m):\n",
    "    s = 'Хорошо, введите слово \"Название\", а затем название законопроекта, который я буду анализировать.\\nДа, слово \"Название\" обязательно, извините.'\n",
    "    bot.send_message(m.chat.id, s)\n",
    "    \n",
    "def get_author(m):\n",
    "    keyboard = types.ReplyKeyboardMarkup(resize_keyboard=True)\n",
    "    keyboard.add(*[types.KeyboardButton(choice) for choice in \n",
    "['Высший Арбитражный Суд', 'Государственная Дума', 'Совет Федерации', 'Верховный суд',\n",
    " 'местный орган (субъект РФ)', 'Правительство РФ', 'Президент РФ', 'другое']])\n",
    "    bot.send_message(m.chat.id, 'Отлично. Теперь выберите автора законопроекта.', reply_markup=keyboard)\n",
    "\n",
    "def Help(m):\n",
    "    s = 'Меня зовут Билл, и я умею определять с точностью более 85% будет ли законопроект принят по его названию и автору.\\n'\n",
    "    s += 'Я создан Екатериной Шестаковой (e-mail: oskolok-mirosdanija@yandex.ru) 09.05.2017.\\n'\n",
    "    s += 'Я создан при помощи машинного обучения на языке программирования Python.\\n\\n'\n",
    "    s += 'Если вы хотите опробовать мою работу, отправьте /test_bill'\n",
    "    s += '\\nСоветую использовать настоящие названия законопроектов. Названия типа \"какая-то фигня\" дадут нерелевантный результат.'\n",
    "    bot.send_message(m.chat.id, s)"
   ]
  },
  {
   "cell_type": "code",
   "execution_count": 48,
   "metadata": {
    "collapsed": true
   },
   "outputs": [],
   "source": [
    "def some_text(m, name, author):\n",
    "        s = 'Здорово! Проверьте, правильно ли вы всё ввели.\\n\\n'\n",
    "        bot.send_message(m.chat.id, s)\n",
    "        bot.send_message(m.chat.id, name)\n",
    "        s = 'Автор документа: '\n",
    "        s += author\n",
    "        bot.send_message(m.chat.id, s)\n",
    "        s =  'Если вы ошиблись, начните заново - отправьте /test_bill\\n'\n",
    "        s += 'Если всё верно, я готов анализировать данные. Отправьте /analyze'\n",
    "        bot.send_message(m.chat.id, s)"
   ]
  },
  {
   "cell_type": "code",
   "execution_count": null,
   "metadata": {
    "collapsed": true
   },
   "outputs": [],
   "source": [
    "if __name__ == '__main__':\n",
    "    bot.polling(none_stop=True)"
   ]
  },
  {
   "cell_type": "code",
   "execution_count": null,
   "metadata": {
    "collapsed": true
   },
   "outputs": [],
   "source": []
  },
  {
   "cell_type": "code",
   "execution_count": null,
   "metadata": {
    "collapsed": true
   },
   "outputs": [],
   "source": []
  },
  {
   "cell_type": "code",
   "execution_count": null,
   "metadata": {
    "collapsed": true
   },
   "outputs": [],
   "source": []
  },
  {
   "cell_type": "code",
   "execution_count": null,
   "metadata": {
    "collapsed": true
   },
   "outputs": [],
   "source": []
  },
  {
   "cell_type": "code",
   "execution_count": null,
   "metadata": {
    "collapsed": true
   },
   "outputs": [],
   "source": []
  },
  {
   "cell_type": "code",
   "execution_count": null,
   "metadata": {
    "collapsed": true
   },
   "outputs": [],
   "source": []
  }
 ],
 "metadata": {
  "kernelspec": {
   "display_name": "Python [default]",
   "language": "python",
   "name": "python2"
  },
  "language_info": {
   "codemirror_mode": {
    "name": "ipython",
    "version": 2
   },
   "file_extension": ".py",
   "mimetype": "text/x-python",
   "name": "python",
   "nbconvert_exporter": "python",
   "pygments_lexer": "ipython2",
   "version": "2.7.13"
  }
 },
 "nbformat": 4,
 "nbformat_minor": 1
}
